{
 "cells": [
  {
   "cell_type": "code",
   "execution_count": 1,
   "id": "6fff1c88",
   "metadata": {},
   "outputs": [],
   "source": [
    "import pandas  as  pd\n",
    "import re\n",
    "from argparse import ArgumentParser"
   ]
  },
  {
   "cell_type": "code",
   "execution_count": 6,
   "id": "c02717ba",
   "metadata": {},
   "outputs": [
    {
     "ename": "AttributeError",
     "evalue": "'NoneType' object has no attribute 'group'",
     "output_type": "error",
     "traceback": [
      "\u001b[0;31m---------------------------------------------------------------------------\u001b[0m",
      "\u001b[0;31mAttributeError\u001b[0m                            Traceback (most recent call last)",
      "\u001b[0;32m/tmp/ipykernel_110328/1282563641.py\u001b[0m in \u001b[0;36m<module>\u001b[0;34m\u001b[0m\n\u001b[1;32m     13\u001b[0m \u001b[0;32mfor\u001b[0m \u001b[0msdf_string\u001b[0m \u001b[0;32min\u001b[0m \u001b[0msdf_strings\u001b[0m\u001b[0;34m:\u001b[0m\u001b[0;34m\u001b[0m\u001b[0;34m\u001b[0m\u001b[0m\n\u001b[1;32m     14\u001b[0m     \u001b[0;31m# Find ZINC ID in the string.\u001b[0m\u001b[0;34m\u001b[0m\u001b[0;34m\u001b[0m\u001b[0;34m\u001b[0m\u001b[0m\n\u001b[0;32m---> 15\u001b[0;31m     \u001b[0mzinc_id\u001b[0m \u001b[0;34m=\u001b[0m \u001b[0mre\u001b[0m\u001b[0;34m.\u001b[0m\u001b[0msearch\u001b[0m\u001b[0;34m(\u001b[0m\u001b[0;34m\"ZINC\\d+(_\\d+)?\"\u001b[0m\u001b[0;34m,\u001b[0m \u001b[0msdf_string\u001b[0m\u001b[0;34m)\u001b[0m\u001b[0;34m.\u001b[0m\u001b[0mgroup\u001b[0m\u001b[0;34m(\u001b[0m\u001b[0;34m)\u001b[0m\u001b[0;34m\u001b[0m\u001b[0;34m\u001b[0m\u001b[0m\n\u001b[0m\u001b[1;32m     16\u001b[0m     \u001b[0mZINC_ids\u001b[0m\u001b[0;34m.\u001b[0m\u001b[0mappend\u001b[0m\u001b[0;34m(\u001b[0m\u001b[0mzinc_id\u001b[0m\u001b[0;34m)\u001b[0m\u001b[0;34m\u001b[0m\u001b[0;34m\u001b[0m\u001b[0m\n",
      "\u001b[0;31mAttributeError\u001b[0m: 'NoneType' object has no attribute 'group'"
     ]
    }
   ],
   "source": [
    "# Read the file as a string to content variable\n",
    "with open(\"results/abeta/iteration_2/pdbqt/train_download/chunk_108.sdf\") as f:\n",
    "    content = f.read()\n",
    "\n",
    "# Symbol on which the file should be split, as each SDF ends with $$$$, this is a symbol we split at\n",
    "split_symbol = \"$$$$\\n\"\n",
    "\n",
    "# Split content on the symbol. This will give us list of strings representing individual SDFs\n",
    "sdf_strings =  [one_part+split_symbol for one_part in content.split(split_symbol) if one_part]\n",
    "\n",
    "# Find ZINC ids corresponding to individual SDFs.\n",
    "ZINC_ids = []\n",
    "for sdf_string in sdf_strings:\n",
    "    # Find ZINC ID in the string. \n",
    "    zinc_id = re.search(\"ZINC\\d+(_\\d+)?\", sdf_string).group()\n",
    "    ZINC_ids.append(zinc_id)"
   ]
  },
  {
   "cell_type": "code",
   "execution_count": 15,
   "id": "9cd858d6",
   "metadata": {},
   "outputs": [
    {
     "data": {
      "text/plain": [
       "113"
      ]
     },
     "execution_count": 15,
     "metadata": {},
     "output_type": "execute_result"
    }
   ],
   "source": [
    "len(sdf_strings)"
   ]
  },
  {
   "cell_type": "code",
   "execution_count": null,
   "id": "5191918f",
   "metadata": {},
   "outputs": [],
   "source": []
  }
 ],
 "metadata": {
  "kernelspec": {
   "display_name": "Python [conda env:.conda-DD_protocol] *",
   "language": "python",
   "name": "conda-env-.conda-DD_protocol-py"
  },
  "language_info": {
   "codemirror_mode": {
    "name": "ipython",
    "version": 3
   },
   "file_extension": ".py",
   "mimetype": "text/x-python",
   "name": "python",
   "nbconvert_exporter": "python",
   "pygments_lexer": "ipython3",
   "version": "3.7.13"
  }
 },
 "nbformat": 4,
 "nbformat_minor": 5
}
