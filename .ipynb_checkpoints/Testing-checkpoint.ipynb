{
 "cells": [
  {
   "cell_type": "code",
   "execution_count": 2,
   "id": "6a6ba50c",
   "metadata": {},
   "outputs": [],
   "source": [
    "import pandas as pd\n",
    "from argparse import ArgumentParser"
   ]
  },
  {
   "cell_type": "code",
   "execution_count": null,
   "id": "3eed58cd",
   "metadata": {},
   "outputs": [],
   "source": []
  },
  {
   "cell_type": "code",
   "execution_count": 6,
   "id": "cc5655d8",
   "metadata": {},
   "outputs": [],
   "source": [
    "input_directory_smiles = \"../library_prepared_filtered_with_isomers_smiles\"\n",
    "input_directory_fingerprints = \"../fingerprints\"\n",
    "output_directory_smiles = \"../library_ready_filtered_with_isomers_smiles\"\n",
    "output_directory_fingerprints = \"../library_ready_filtered_with_isomers_fingerprints\""
   ]
  },
  {
   "cell_type": "code",
   "execution_count": 5,
   "id": "7d25b801",
   "metadata": {},
   "outputs": [],
   "source": [
    "file_number = 31"
   ]
  },
  {
   "cell_type": "code",
   "execution_count": 12,
   "id": "60ab8447",
   "metadata": {},
   "outputs": [
    {
     "name": "stdout",
     "output_type": "stream",
     "text": [
      "Processing file 31\n"
     ]
    }
   ],
   "source": [
    "print(\"Processing file \" + str(file_number))\n",
    "# process smiles files\n",
    "smiles_file = pd.read_csv(input_directory_smiles + \"/smiles_all_\" + \"{0:0=2d}\".format(file_number) + \".txt\",\n",
    "                          delim_whitespace=True, header=None, names=[\"smiles\", 'zinc_id'])\n",
    "\n",
    "# process fingerprints file\n",
    "fingerprints_file = pd.read_csv(input_directory_fingerprints + \"/smiles_all_\" + \"{0:0=2d}\".format(file_number) + \".txt\", \n",
    "                            sep='^([^,]+),', engine='python', header=None, \n",
    "                            names=['to_remove', 'zinc_id', 'morgan'])\n",
    "fingerprints_file.drop('to_remove', inplace=True, axis=1)\n"
   ]
  },
  {
   "cell_type": "code",
   "execution_count": 13,
   "id": "0224de6b",
   "metadata": {},
   "outputs": [
    {
     "data": {
      "text/plain": [
       "False"
      ]
     },
     "execution_count": 13,
     "metadata": {},
     "output_type": "execute_result"
    }
   ],
   "source": [
    "smiles_file.shape[0]>0"
   ]
  },
  {
   "cell_type": "code",
   "execution_count": null,
   "id": "ec5e4d72",
   "metadata": {},
   "outputs": [],
   "source": []
  },
  {
   "cell_type": "code",
   "execution_count": 16,
   "id": "8a1eba76",
   "metadata": {},
   "outputs": [],
   "source": []
  },
  {
   "cell_type": "code",
   "execution_count": 33,
   "id": "db168519",
   "metadata": {},
   "outputs": [],
   "source": [
    "smiles_file[\"short_zinc_id\"] = smiles_file[\"zinc_id\"].str.split('_', expand=True).iloc[:, 0]\n",
    "smiles_file[\"clean_zinc_id\"] = smiles_file[\"zinc_id\"]"
   ]
  },
  {
   "cell_type": "code",
   "execution_count": null,
   "id": "f5792414",
   "metadata": {},
   "outputs": [],
   "source": []
  },
  {
   "cell_type": "code",
   "execution_count": 34,
   "id": "4fb22a4d",
   "metadata": {},
   "outputs": [],
   "source": [
    "smiles_only_once= [not elem for elem in smiles_file.duplicated(subset=\"short_zinc_id\", keep=False)]"
   ]
  },
  {
   "cell_type": "code",
   "execution_count": null,
   "id": "a7ac8a15",
   "metadata": {},
   "outputs": [],
   "source": []
  },
  {
   "cell_type": "code",
   "execution_count": 35,
   "id": "22eafc02",
   "metadata": {},
   "outputs": [],
   "source": [
    "# smiles_file.loc[smiles_only_once, 'zinc_id'] = smiles_file.loc[smiles_only_once, 'zinc_id'].str.split('_')\n",
    "smiles_file.loc[smiles_only_once, 'clean_zinc_id'] = smiles_file.loc[smiles_only_once, 'clean_zinc_id'].str.split('_',expand=True).iloc[:, 0]"
   ]
  },
  {
   "cell_type": "code",
   "execution_count": 39,
   "id": "f0897e3e",
   "metadata": {},
   "outputs": [
    {
     "data": {
      "text/html": [
       "<div>\n",
       "<style scoped>\n",
       "    .dataframe tbody tr th:only-of-type {\n",
       "        vertical-align: middle;\n",
       "    }\n",
       "\n",
       "    .dataframe tbody tr th {\n",
       "        vertical-align: top;\n",
       "    }\n",
       "\n",
       "    .dataframe thead th {\n",
       "        text-align: right;\n",
       "    }\n",
       "</style>\n",
       "<table border=\"1\" class=\"dataframe\">\n",
       "  <thead>\n",
       "    <tr style=\"text-align: right;\">\n",
       "      <th></th>\n",
       "      <th>smiles</th>\n",
       "      <th>zinc_id</th>\n",
       "      <th>short_zinc_id</th>\n",
       "      <th>clean_zinc_id</th>\n",
       "    </tr>\n",
       "  </thead>\n",
       "  <tbody>\n",
       "    <tr>\n",
       "      <th>0</th>\n",
       "      <td>c1ccc(c(c1)C(=O)OCC[C@@H]2CCCC[NH2+]2)N</td>\n",
       "      <td>ZINC000000000638_1</td>\n",
       "      <td>ZINC000000000638</td>\n",
       "      <td>ZINC000000000638</td>\n",
       "    </tr>\n",
       "    <tr>\n",
       "      <th>1</th>\n",
       "      <td>Cc1ccccc1OC[C@@H](C[NH+]2CCC=CC2)O</td>\n",
       "      <td>ZINC000000000794_1</td>\n",
       "      <td>ZINC000000000794</td>\n",
       "      <td>ZINC000000000794</td>\n",
       "    </tr>\n",
       "    <tr>\n",
       "      <th>2</th>\n",
       "      <td>COc1cc(cc(c1OC)OC)/C=C/C(=O)N</td>\n",
       "      <td>ZINC000000001157_1</td>\n",
       "      <td>ZINC000000001157</td>\n",
       "      <td>ZINC000000001157</td>\n",
       "    </tr>\n",
       "    <tr>\n",
       "      <th>3</th>\n",
       "      <td>c1cc(=O)[nH]cc1C(=O)N2CCCCC2</td>\n",
       "      <td>ZINC000000003546_1</td>\n",
       "      <td>ZINC000000003546</td>\n",
       "      <td>ZINC000000003546</td>\n",
       "    </tr>\n",
       "    <tr>\n",
       "      <th>4</th>\n",
       "      <td>c1cc(cnc1)[C@H]2n3ccc(c3CS2)C(=O)N</td>\n",
       "      <td>ZINC000000004355_1</td>\n",
       "      <td>ZINC000000004355</td>\n",
       "      <td>ZINC000000004355</td>\n",
       "    </tr>\n",
       "    <tr>\n",
       "      <th>...</th>\n",
       "      <td>...</td>\n",
       "      <td>...</td>\n",
       "      <td>...</td>\n",
       "      <td>...</td>\n",
       "    </tr>\n",
       "    <tr>\n",
       "      <th>10071914</th>\n",
       "      <td>CC(C)c1cccc(c1)c2cccc3c2oc(n3)C(=O)OC</td>\n",
       "      <td>ZINC001241740710_1</td>\n",
       "      <td>ZINC001241740710</td>\n",
       "      <td>ZINC001241740710</td>\n",
       "    </tr>\n",
       "    <tr>\n",
       "      <th>10071915</th>\n",
       "      <td>CC(C)c1cccc(c1)c2cnc(cn2)NC(=O)C(C)(C)C</td>\n",
       "      <td>ZINC001241740713_1</td>\n",
       "      <td>ZINC001241740713</td>\n",
       "      <td>ZINC001241740713</td>\n",
       "    </tr>\n",
       "    <tr>\n",
       "      <th>10071916</th>\n",
       "      <td>CCC(=O)Nc1cc(ccn1)c2cccc(c2)C(C)C</td>\n",
       "      <td>ZINC001241740719_1</td>\n",
       "      <td>ZINC001241740719</td>\n",
       "      <td>ZINC001241740719</td>\n",
       "    </tr>\n",
       "    <tr>\n",
       "      <th>10071917</th>\n",
       "      <td>CC(C)c1cccc(c1)c2ccc3c(c2)CNC(=O)N3C</td>\n",
       "      <td>ZINC001241740725_1</td>\n",
       "      <td>ZINC001241740725</td>\n",
       "      <td>ZINC001241740725</td>\n",
       "    </tr>\n",
       "    <tr>\n",
       "      <th>10071918</th>\n",
       "      <td>CC(C)c1cccc(c1)c2cccn(c2=O)c3cccnc3</td>\n",
       "      <td>ZINC001241740805_1</td>\n",
       "      <td>ZINC001241740805</td>\n",
       "      <td>ZINC001241740805</td>\n",
       "    </tr>\n",
       "  </tbody>\n",
       "</table>\n",
       "<p>10071919 rows × 4 columns</p>\n",
       "</div>"
      ],
      "text/plain": [
       "                                           smiles             zinc_id  \\\n",
       "0         c1ccc(c(c1)C(=O)OCC[C@@H]2CCCC[NH2+]2)N  ZINC000000000638_1   \n",
       "1              Cc1ccccc1OC[C@@H](C[NH+]2CCC=CC2)O  ZINC000000000794_1   \n",
       "2                   COc1cc(cc(c1OC)OC)/C=C/C(=O)N  ZINC000000001157_1   \n",
       "3                    c1cc(=O)[nH]cc1C(=O)N2CCCCC2  ZINC000000003546_1   \n",
       "4              c1cc(cnc1)[C@H]2n3ccc(c3CS2)C(=O)N  ZINC000000004355_1   \n",
       "...                                           ...                 ...   \n",
       "10071914    CC(C)c1cccc(c1)c2cccc3c2oc(n3)C(=O)OC  ZINC001241740710_1   \n",
       "10071915  CC(C)c1cccc(c1)c2cnc(cn2)NC(=O)C(C)(C)C  ZINC001241740713_1   \n",
       "10071916        CCC(=O)Nc1cc(ccn1)c2cccc(c2)C(C)C  ZINC001241740719_1   \n",
       "10071917     CC(C)c1cccc(c1)c2ccc3c(c2)CNC(=O)N3C  ZINC001241740725_1   \n",
       "10071918      CC(C)c1cccc(c1)c2cccn(c2=O)c3cccnc3  ZINC001241740805_1   \n",
       "\n",
       "             short_zinc_id     clean_zinc_id  \n",
       "0         ZINC000000000638  ZINC000000000638  \n",
       "1         ZINC000000000794  ZINC000000000794  \n",
       "2         ZINC000000001157  ZINC000000001157  \n",
       "3         ZINC000000003546  ZINC000000003546  \n",
       "4         ZINC000000004355  ZINC000000004355  \n",
       "...                    ...               ...  \n",
       "10071914  ZINC001241740710  ZINC001241740710  \n",
       "10071915  ZINC001241740713  ZINC001241740713  \n",
       "10071916  ZINC001241740719  ZINC001241740719  \n",
       "10071917  ZINC001241740725  ZINC001241740725  \n",
       "10071918  ZINC001241740805  ZINC001241740805  \n",
       "\n",
       "[10071919 rows x 4 columns]"
      ]
     },
     "execution_count": 39,
     "metadata": {},
     "output_type": "execute_result"
    }
   ],
   "source": [
    "smiles_file"
   ]
  },
  {
   "cell_type": "code",
   "execution_count": 41,
   "id": "5a61f401",
   "metadata": {},
   "outputs": [],
   "source": [
    "# remove duplicates\n",
    "smiles_file_filtered = smiles_file.drop_duplicates(subset=\"clean_zinc_id\")"
   ]
  },
  {
   "cell_type": "code",
   "execution_count": 44,
   "id": "b801419b",
   "metadata": {},
   "outputs": [],
   "source": [
    "fingerprints_file_filtered  = fingerprints_file.drop_duplicates(subset=\"zinc_id\")"
   ]
  },
  {
   "cell_type": "code",
   "execution_count": 46,
   "id": "f289a03f",
   "metadata": {},
   "outputs": [],
   "source": [
    "merged_result = smiles_file_filtered.merge(fingerprints_file_filtered, on='zinc_id')"
   ]
  },
  {
   "cell_type": "code",
   "execution_count": 47,
   "id": "82916094",
   "metadata": {},
   "outputs": [
    {
     "data": {
      "text/html": [
       "<div>\n",
       "<style scoped>\n",
       "    .dataframe tbody tr th:only-of-type {\n",
       "        vertical-align: middle;\n",
       "    }\n",
       "\n",
       "    .dataframe tbody tr th {\n",
       "        vertical-align: top;\n",
       "    }\n",
       "\n",
       "    .dataframe thead th {\n",
       "        text-align: right;\n",
       "    }\n",
       "</style>\n",
       "<table border=\"1\" class=\"dataframe\">\n",
       "  <thead>\n",
       "    <tr style=\"text-align: right;\">\n",
       "      <th></th>\n",
       "      <th>smiles</th>\n",
       "      <th>clean_zinc_id</th>\n",
       "    </tr>\n",
       "  </thead>\n",
       "  <tbody>\n",
       "    <tr>\n",
       "      <th>0</th>\n",
       "      <td>c1ccc(c(c1)C(=O)OCC[C@@H]2CCCC[NH2+]2)N</td>\n",
       "      <td>ZINC000000000638</td>\n",
       "    </tr>\n",
       "    <tr>\n",
       "      <th>1</th>\n",
       "      <td>Cc1ccccc1OC[C@@H](C[NH+]2CCC=CC2)O</td>\n",
       "      <td>ZINC000000000794</td>\n",
       "    </tr>\n",
       "    <tr>\n",
       "      <th>2</th>\n",
       "      <td>COc1cc(cc(c1OC)OC)/C=C/C(=O)N</td>\n",
       "      <td>ZINC000000001157</td>\n",
       "    </tr>\n",
       "    <tr>\n",
       "      <th>3</th>\n",
       "      <td>c1cc(=O)[nH]cc1C(=O)N2CCCCC2</td>\n",
       "      <td>ZINC000000003546</td>\n",
       "    </tr>\n",
       "    <tr>\n",
       "      <th>4</th>\n",
       "      <td>c1cc(cnc1)[C@H]2n3ccc(c3CS2)C(=O)N</td>\n",
       "      <td>ZINC000000004355</td>\n",
       "    </tr>\n",
       "    <tr>\n",
       "      <th>...</th>\n",
       "      <td>...</td>\n",
       "      <td>...</td>\n",
       "    </tr>\n",
       "    <tr>\n",
       "      <th>10071914</th>\n",
       "      <td>CC(C)c1cccc(c1)c2cccc3c2oc(n3)C(=O)OC</td>\n",
       "      <td>ZINC001241740710</td>\n",
       "    </tr>\n",
       "    <tr>\n",
       "      <th>10071915</th>\n",
       "      <td>CC(C)c1cccc(c1)c2cnc(cn2)NC(=O)C(C)(C)C</td>\n",
       "      <td>ZINC001241740713</td>\n",
       "    </tr>\n",
       "    <tr>\n",
       "      <th>10071916</th>\n",
       "      <td>CCC(=O)Nc1cc(ccn1)c2cccc(c2)C(C)C</td>\n",
       "      <td>ZINC001241740719</td>\n",
       "    </tr>\n",
       "    <tr>\n",
       "      <th>10071917</th>\n",
       "      <td>CC(C)c1cccc(c1)c2ccc3c(c2)CNC(=O)N3C</td>\n",
       "      <td>ZINC001241740725</td>\n",
       "    </tr>\n",
       "    <tr>\n",
       "      <th>10071918</th>\n",
       "      <td>CC(C)c1cccc(c1)c2cccn(c2=O)c3cccnc3</td>\n",
       "      <td>ZINC001241740805</td>\n",
       "    </tr>\n",
       "  </tbody>\n",
       "</table>\n",
       "<p>10071919 rows × 2 columns</p>\n",
       "</div>"
      ],
      "text/plain": [
       "                                           smiles     clean_zinc_id\n",
       "0         c1ccc(c(c1)C(=O)OCC[C@@H]2CCCC[NH2+]2)N  ZINC000000000638\n",
       "1              Cc1ccccc1OC[C@@H](C[NH+]2CCC=CC2)O  ZINC000000000794\n",
       "2                   COc1cc(cc(c1OC)OC)/C=C/C(=O)N  ZINC000000001157\n",
       "3                    c1cc(=O)[nH]cc1C(=O)N2CCCCC2  ZINC000000003546\n",
       "4              c1cc(cnc1)[C@H]2n3ccc(c3CS2)C(=O)N  ZINC000000004355\n",
       "...                                           ...               ...\n",
       "10071914    CC(C)c1cccc(c1)c2cccc3c2oc(n3)C(=O)OC  ZINC001241740710\n",
       "10071915  CC(C)c1cccc(c1)c2cnc(cn2)NC(=O)C(C)(C)C  ZINC001241740713\n",
       "10071916        CCC(=O)Nc1cc(ccn1)c2cccc(c2)C(C)C  ZINC001241740719\n",
       "10071917     CC(C)c1cccc(c1)c2ccc3c(c2)CNC(=O)N3C  ZINC001241740725\n",
       "10071918      CC(C)c1cccc(c1)c2cccn(c2=O)c3cccnc3  ZINC001241740805\n",
       "\n",
       "[10071919 rows x 2 columns]"
      ]
     },
     "execution_count": 47,
     "metadata": {},
     "output_type": "execute_result"
    }
   ],
   "source": [
    " merged_result.drop(['morgan','zinc_id','short_zinc_id'], axis=1)"
   ]
  },
  {
   "cell_type": "code",
   "execution_count": 48,
   "id": "b624edad",
   "metadata": {},
   "outputs": [
    {
     "data": {
      "text/html": [
       "<div>\n",
       "<style scoped>\n",
       "    .dataframe tbody tr th:only-of-type {\n",
       "        vertical-align: middle;\n",
       "    }\n",
       "\n",
       "    .dataframe tbody tr th {\n",
       "        vertical-align: top;\n",
       "    }\n",
       "\n",
       "    .dataframe thead th {\n",
       "        text-align: right;\n",
       "    }\n",
       "</style>\n",
       "<table border=\"1\" class=\"dataframe\">\n",
       "  <thead>\n",
       "    <tr style=\"text-align: right;\">\n",
       "      <th></th>\n",
       "      <th>clean_zinc_id</th>\n",
       "      <th>morgan</th>\n",
       "    </tr>\n",
       "  </thead>\n",
       "  <tbody>\n",
       "    <tr>\n",
       "      <th>0</th>\n",
       "      <td>ZINC000000000638</td>\n",
       "      <td>2,4,13,29,64,80,120,121,145,147,175,301,356,42...</td>\n",
       "    </tr>\n",
       "    <tr>\n",
       "      <th>1</th>\n",
       "      <td>ZINC000000000794</td>\n",
       "      <td>1,21,29,33,64,80,104,118,123,124,159,175,207,2...</td>\n",
       "    </tr>\n",
       "    <tr>\n",
       "      <th>2</th>\n",
       "      <td>ZINC000000001157</td>\n",
       "      <td>33,140,147,173,187,249,282,289,333,356,372,512...</td>\n",
       "    </tr>\n",
       "    <tr>\n",
       "      <th>3</th>\n",
       "      <td>ZINC000000003546</td>\n",
       "      <td>2,4,81,90,291,314,356,361,369,440,456,480,497,...</td>\n",
       "    </tr>\n",
       "    <tr>\n",
       "      <th>4</th>\n",
       "      <td>ZINC000000004355</td>\n",
       "      <td>19,64,77,110,140,142,147,255,298,309,356,378,3...</td>\n",
       "    </tr>\n",
       "    <tr>\n",
       "      <th>...</th>\n",
       "      <td>...</td>\n",
       "      <td>...</td>\n",
       "    </tr>\n",
       "    <tr>\n",
       "      <th>10071914</th>\n",
       "      <td>ZINC001241740710</td>\n",
       "      <td>1,15,33,64,73,128,133,136,145,227,283,289,323,...</td>\n",
       "    </tr>\n",
       "    <tr>\n",
       "      <th>10071915</th>\n",
       "      <td>ZINC001241740713</td>\n",
       "      <td>1,6,15,33,36,64,75,114,128,136,266,270,283,320...</td>\n",
       "    </tr>\n",
       "    <tr>\n",
       "      <th>10071916</th>\n",
       "      <td>ZINC001241740719</td>\n",
       "      <td>1,15,33,41,64,75,80,117,128,136,283,294,329,34...</td>\n",
       "    </tr>\n",
       "    <tr>\n",
       "      <th>10071917</th>\n",
       "      <td>ZINC001241740725</td>\n",
       "      <td>1,15,26,33,64,90,107,121,136,146,212,271,283,3...</td>\n",
       "    </tr>\n",
       "    <tr>\n",
       "      <th>10071918</th>\n",
       "      <td>ZINC001241740805</td>\n",
       "      <td>1,15,19,25,33,64,77,95,136,283,314,323,341,352...</td>\n",
       "    </tr>\n",
       "  </tbody>\n",
       "</table>\n",
       "<p>10071919 rows × 2 columns</p>\n",
       "</div>"
      ],
      "text/plain": [
       "             clean_zinc_id                                             morgan\n",
       "0         ZINC000000000638  2,4,13,29,64,80,120,121,145,147,175,301,356,42...\n",
       "1         ZINC000000000794  1,21,29,33,64,80,104,118,123,124,159,175,207,2...\n",
       "2         ZINC000000001157  33,140,147,173,187,249,282,289,333,356,372,512...\n",
       "3         ZINC000000003546  2,4,81,90,291,314,356,361,369,440,456,480,497,...\n",
       "4         ZINC000000004355  19,64,77,110,140,142,147,255,298,309,356,378,3...\n",
       "...                    ...                                                ...\n",
       "10071914  ZINC001241740710  1,15,33,64,73,128,133,136,145,227,283,289,323,...\n",
       "10071915  ZINC001241740713  1,6,15,33,36,64,75,114,128,136,266,270,283,320...\n",
       "10071916  ZINC001241740719  1,15,33,41,64,75,80,117,128,136,283,294,329,34...\n",
       "10071917  ZINC001241740725  1,15,26,33,64,90,107,121,136,146,212,271,283,3...\n",
       "10071918  ZINC001241740805  1,15,19,25,33,64,77,95,136,283,314,323,341,352...\n",
       "\n",
       "[10071919 rows x 2 columns]"
      ]
     },
     "execution_count": 48,
     "metadata": {},
     "output_type": "execute_result"
    }
   ],
   "source": [
    "merged_result.drop(['smiles','zinc_id','short_zinc_id'], axis=1)"
   ]
  },
  {
   "cell_type": "code",
   "execution_count": null,
   "id": "9ec9582f",
   "metadata": {},
   "outputs": [],
   "source": [
    "# merge the two dataframes on ZINC ID\n",
    "merged_result = smiles_file_filtered.merge(fingerprints_file_filtered, on='zinc_id')\n",
    "\n",
    "#     # Uncomment if only one version of molecule is to be used \n",
    "#     merged_result['zinc_id'] = merged_result['zinc_id'].apply(lambda x: x.split(\"_\")[0])\n",
    "#     merged_result = merged_result.drop_duplicates(subset=\"zinc_id\")\n",
    "\n",
    "# retrieve back new smiles and fingerprints dataframes\n",
    "new_smiles_file = merged_result.drop(['morgan','zinc_id','short_zinc_id'], axis=1)\n",
    "new_fingerprints_file = merged_result.drop(['smiles','zinc_id','short_zinc_id'], axis=1)\n",
    "\n",
    "\n",
    "# # save new smiles and fingerprints dataframes\n",
    "# new_smiles_file.to_csv(output_directory_smiles + \"/smiles_all_\" + \"{0:0=2d}\".format(file_number) + \".txt\", \n",
    "#                        header=None, index=None, sep=' ', mode='a')\n",
    "\n",
    "# new_fingerprints_file.to_csv(output_directory_fingerprints + \"/smiles_all_\" + \"{0:0=2d}\".format(file_number) + \".txt\", \n",
    "#                                  header=None, index=None, sep='?')"
   ]
  },
  {
   "cell_type": "markdown",
   "id": "97496e85",
   "metadata": {},
   "source": [
    "## Docking file processing"
   ]
  },
  {
   "cell_type": "code",
   "execution_count": 4,
   "id": "61459458",
   "metadata": {},
   "outputs": [
    {
     "name": "stderr",
     "output_type": "stream",
     "text": [
      "/home/mb2462/.conda/envs/DD_protocol/lib/python3.7/site-packages/IPython/core/interactiveshell.py:3457: DtypeWarning: Columns (0) have mixed types.Specify dtype option on import or set low_memory=False.\n",
      "  exec(code_obj, self.user_global_ns, self.user_ns)\n"
     ]
    }
   ],
   "source": [
    "testing_labels = pd.read_csv(\"results/abeta/iteration_1/testing_labels.txt\", names=['zinc_id', 'score'])"
   ]
  },
  {
   "cell_type": "code",
   "execution_count": 5,
   "id": "7d3d5cbc",
   "metadata": {},
   "outputs": [
    {
     "data": {
      "text/html": [
       "<div>\n",
       "<style scoped>\n",
       "    .dataframe tbody tr th:only-of-type {\n",
       "        vertical-align: middle;\n",
       "    }\n",
       "\n",
       "    .dataframe tbody tr th {\n",
       "        vertical-align: top;\n",
       "    }\n",
       "\n",
       "    .dataframe thead th {\n",
       "        text-align: right;\n",
       "    }\n",
       "</style>\n",
       "<table border=\"1\" class=\"dataframe\">\n",
       "  <thead>\n",
       "    <tr style=\"text-align: right;\">\n",
       "      <th></th>\n",
       "      <th>zinc_id</th>\n",
       "      <th>score</th>\n",
       "    </tr>\n",
       "  </thead>\n",
       "  <tbody>\n",
       "    <tr>\n",
       "      <th>0</th>\n",
       "      <td>r_i_docking_score</td>\n",
       "      <td>ZINC_ID</td>\n",
       "    </tr>\n",
       "    <tr>\n",
       "      <th>1</th>\n",
       "      <td>-5.0</td>\n",
       "      <td>ZINC000000397415</td>\n",
       "    </tr>\n",
       "    <tr>\n",
       "      <th>2</th>\n",
       "      <td>-4.5</td>\n",
       "      <td>ZINC000000474804</td>\n",
       "    </tr>\n",
       "    <tr>\n",
       "      <th>3</th>\n",
       "      <td>-4.2</td>\n",
       "      <td>ZINC000002504412</td>\n",
       "    </tr>\n",
       "    <tr>\n",
       "      <th>4</th>\n",
       "      <td>-4.3</td>\n",
       "      <td>ZINC000003882880</td>\n",
       "    </tr>\n",
       "    <tr>\n",
       "      <th>...</th>\n",
       "      <td>...</td>\n",
       "      <td>...</td>\n",
       "    </tr>\n",
       "    <tr>\n",
       "      <th>441701</th>\n",
       "      <td>-4.5</td>\n",
       "      <td>ZINC001772350492</td>\n",
       "    </tr>\n",
       "    <tr>\n",
       "      <th>441702</th>\n",
       "      <td>-4.9</td>\n",
       "      <td>ZINC001772370326</td>\n",
       "    </tr>\n",
       "    <tr>\n",
       "      <th>441703</th>\n",
       "      <td>-4.8</td>\n",
       "      <td>ZINC001772394814</td>\n",
       "    </tr>\n",
       "    <tr>\n",
       "      <th>441704</th>\n",
       "      <td>-5.3</td>\n",
       "      <td>ZINC001772438097</td>\n",
       "    </tr>\n",
       "    <tr>\n",
       "      <th>441705</th>\n",
       "      <td>-5.1</td>\n",
       "      <td>ZINC001772453620</td>\n",
       "    </tr>\n",
       "  </tbody>\n",
       "</table>\n",
       "<p>441706 rows × 2 columns</p>\n",
       "</div>"
      ],
      "text/plain": [
       "                  zinc_id             score\n",
       "0       r_i_docking_score           ZINC_ID\n",
       "1                    -5.0  ZINC000000397415\n",
       "2                    -4.5  ZINC000000474804\n",
       "3                    -4.2  ZINC000002504412\n",
       "4                    -4.3  ZINC000003882880\n",
       "...                   ...               ...\n",
       "441701               -4.5  ZINC001772350492\n",
       "441702               -4.9  ZINC001772370326\n",
       "441703               -4.8  ZINC001772394814\n",
       "441704               -5.3  ZINC001772438097\n",
       "441705               -5.1  ZINC001772453620\n",
       "\n",
       "[441706 rows x 2 columns]"
      ]
     },
     "execution_count": 5,
     "metadata": {},
     "output_type": "execute_result"
    }
   ],
   "source": [
    "testing_labels"
   ]
  },
  {
   "cell_type": "code",
   "execution_count": null,
   "id": "8e5ae978",
   "metadata": {},
   "outputs": [],
   "source": []
  }
 ],
 "metadata": {
  "kernelspec": {
   "display_name": "Python [conda env:.conda-DD_protocol] *",
   "language": "python",
   "name": "conda-env-.conda-DD_protocol-py"
  },
  "language_info": {
   "codemirror_mode": {
    "name": "ipython",
    "version": 3
   },
   "file_extension": ".py",
   "mimetype": "text/x-python",
   "name": "python",
   "nbconvert_exporter": "python",
   "pygments_lexer": "ipython3",
   "version": "3.7.13"
  }
 },
 "nbformat": 4,
 "nbformat_minor": 5
}
