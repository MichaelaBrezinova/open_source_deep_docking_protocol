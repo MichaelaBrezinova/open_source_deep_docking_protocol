{
 "cells": [
  {
   "cell_type": "code",
   "execution_count": 1,
   "id": "146e65e1",
   "metadata": {},
   "outputs": [],
   "source": [
    "import pandas  as  pd\n",
    "import re\n",
    "from argparse import ArgumentParser"
   ]
  },
  {
   "cell_type": "code",
   "execution_count": 4,
   "id": "b36e36bf",
   "metadata": {},
   "outputs": [
    {
     "ename": "FileNotFoundError",
     "evalue": "[Errno 2] No such file or directory: '/home/mb2462/rds/hpc-work/DD/DD_protocol_data/DD_main_clean/results/abeta/iteration_2/pdbqt/train_download/chunk_108'",
     "output_type": "error",
     "traceback": [
      "\u001b[0;31m---------------------------------------------------------------------------\u001b[0m",
      "\u001b[0;31mFileNotFoundError\u001b[0m                         Traceback (most recent call last)",
      "\u001b[0;32m/tmp/ipykernel_110328/1175549247.py\u001b[0m in \u001b[0;36m<module>\u001b[0;34m\u001b[0m\n\u001b[1;32m      1\u001b[0m \u001b[0;31m# Read the file as a string to content variable\u001b[0m\u001b[0;34m\u001b[0m\u001b[0;34m\u001b[0m\u001b[0;34m\u001b[0m\u001b[0m\n\u001b[0;32m----> 2\u001b[0;31m \u001b[0;32mwith\u001b[0m \u001b[0mopen\u001b[0m\u001b[0;34m(\u001b[0m\u001b[0;34m\"/home/mb2462/rds/hpc-work/DD/DD_protocol_data/DD_main_clean/results/abeta/iteration_2/pdbqt/train_download/chunk_108\"\u001b[0m\u001b[0;34m)\u001b[0m \u001b[0;32mas\u001b[0m \u001b[0mf\u001b[0m\u001b[0;34m:\u001b[0m\u001b[0;34m\u001b[0m\u001b[0;34m\u001b[0m\u001b[0m\n\u001b[0m\u001b[1;32m      3\u001b[0m     \u001b[0mcontent\u001b[0m \u001b[0;34m=\u001b[0m \u001b[0mf\u001b[0m\u001b[0;34m.\u001b[0m\u001b[0mread\u001b[0m\u001b[0;34m(\u001b[0m\u001b[0;34m)\u001b[0m\u001b[0;34m\u001b[0m\u001b[0;34m\u001b[0m\u001b[0m\n\u001b[1;32m      4\u001b[0m \u001b[0;34m\u001b[0m\u001b[0m\n\u001b[1;32m      5\u001b[0m \u001b[0;31m# Symbol on which the file should be split, as each SDF ends with $$$$, this is a symbol we split at\u001b[0m\u001b[0;34m\u001b[0m\u001b[0;34m\u001b[0m\u001b[0;34m\u001b[0m\u001b[0m\n",
      "\u001b[0;31mFileNotFoundError\u001b[0m: [Errno 2] No such file or directory: '/home/mb2462/rds/hpc-work/DD/DD_protocol_data/DD_main_clean/results/abeta/iteration_2/pdbqt/train_download/chunk_108'"
     ]
    }
   ],
   "source": [
    "# Read the file as a string to content variable\n",
    "with open(\"results/abeta/iteration_2/pdbqt/train_download/chunk_108.sdf\") as f:\n",
    "    content = f.read()\n",
    "\n",
    "# Symbol on which the file should be split, as each SDF ends with $$$$, this is a symbol we split at\n",
    "split_symbol = \"$$$$\\n\"\n",
    "\n",
    "# Split content on the symbol. This will give us list of strings representing individual SDFs\n",
    "sdf_strings =  [one_part+split_symbol for one_part in content.split(split_symbol) if one_part]\n",
    "\n",
    "# Find ZINC ids corresponding to individual SDFs.\n",
    "ZINC_ids = []\n",
    "for sdf_string in sdf_strings:\n",
    "    # Find ZINC ID in the string. \n",
    "    zinc_id = re.search(\"ZINC\\d+(_\\d+)?\", sdf_string).group()\n",
    "    ZINC_ids.append(zinc_id)"
   ]
  },
  {
   "cell_type": "code",
   "execution_count": 5,
   "id": "d404c34f",
   "metadata": {},
   "outputs": [
    {
     "data": {
      "text/plain": [
       "'/rds/user/mb2462/hpc-work/DD/DD_protocol_data/DD_main_clean'"
      ]
     },
     "execution_count": 5,
     "metadata": {},
     "output_type": "execute_result"
    }
   ],
   "source": [
    "pwd"
   ]
  },
  {
   "cell_type": "code",
   "execution_count": null,
   "id": "800add33",
   "metadata": {},
   "outputs": [],
   "source": []
  }
 ],
 "metadata": {
  "kernelspec": {
   "display_name": "Python [conda env:.conda-DD_protocol] *",
   "language": "python",
   "name": "conda-env-.conda-DD_protocol-py"
  },
  "language_info": {
   "codemirror_mode": {
    "name": "ipython",
    "version": 3
   },
   "file_extension": ".py",
   "mimetype": "text/x-python",
   "name": "python",
   "nbconvert_exporter": "python",
   "pygments_lexer": "ipython3",
   "version": "3.7.13"
  }
 },
 "nbformat": 4,
 "nbformat_minor": 5
}
